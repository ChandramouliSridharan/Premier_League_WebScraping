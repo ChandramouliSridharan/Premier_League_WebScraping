{
 "cells": [
  {
   "cell_type": "markdown",
   "metadata": {},
   "source": [
    "Importing necessary Libraries."
   ]
  },
  {
   "cell_type": "code",
   "execution_count": null,
   "metadata": {},
   "outputs": [],
   "source": [
    "import requests\n",
    "import pandas as pd\n",
    "import numpy as np\n",
    "import time\n",
    "from bs4 import BeautifulSoup\n",
    "from io import StringIO"
   ]
  },
  {
   "cell_type": "markdown",
   "metadata": {},
   "source": [
    "Scraping data from the URL"
   ]
  },
  {
   "cell_type": "code",
   "execution_count": null,
   "metadata": {},
   "outputs": [],
   "source": [
    "dataset_url = \"https://fbref.com/en/comps/9/2023-2024/2023-2024-Premier-League-Stats\"\n",
    "headers = {\"User-Agent\":\"Mozilla/5.0 (Windows NT 10.0; WOW64) AppleWebKit/537.36 (KHTML, like Gecko) Chrome/127.0.0.0 Safari/537.36\"}\n",
    "data = requests.get (dataset_url , headers=headers)\n",
    "data.text"
   ]
  },
  {
   "cell_type": "markdown",
   "metadata": {},
   "source": [
    "Getting the League standing table data from the website using Beautiful Soup"
   ]
  },
  {
   "cell_type": "code",
   "execution_count": null,
   "metadata": {},
   "outputs": [],
   "source": [
    "soup = BeautifulSoup(data.content ,\"html.parser\")\n",
    "standing_table = soup.select('table.stats_table')[0]\n",
    "standing_table\n",
    "\n",
    "# Getting the Team links using the a tag and then gets its value using the href property.\n",
    "team_links = standing_table.find_all('a')\n",
    "team_links = [l.get(\"href\") for l in team_links]\n",
    "# Filtering only the squad links as there are other a elements as well\n",
    "team_links =  [ l for l in team_links if '/squads/' in l]\n",
    "team_links"
   ]
  },
  {
   "cell_type": "markdown",
   "metadata": {},
   "source": [
    "Formating the relative URL to Absolute URL"
   ]
  },
  {
   "cell_type": "code",
   "execution_count": null,
   "metadata": {},
   "outputs": [],
   "source": [
    "team_absoluteurl = [f\"https://fbref.com{l}\" for l in team_links]\n",
    "team_absoluteurl"
   ]
  },
  {
   "cell_type": "markdown",
   "metadata": {},
   "source": [
    "Extracting One Team Match Stats data Other details using Pandas and Requests"
   ]
  },
  {
   "cell_type": "code",
   "execution_count": null,
   "metadata": {},
   "outputs": [],
   "source": [
    "# Getting the Team match stats data\n",
    "oneteam_url = team_absoluteurl [0]\n",
    "oneteam_data = requests.get(oneteam_url)\n",
    "matches = pd.read_html(oneteam_data.text , match =\"Scores & Fixtures\")\n",
    "matches[0].head()"
   ]
  },
  {
   "cell_type": "code",
   "execution_count": null,
   "metadata": {},
   "outputs": [],
   "source": [
    "# Getting each team shooting stats data.\n",
    "soup= BeautifulSoup(oneteam_data.text)\n",
    "links = soup.find_all('a')\n",
    "links =[l.get(\"href\") for l in links]\n",
    "links = [l for l in links if l and 'all_comps/shooting/' in l]\n",
    "shooting_data = requests.get(f\"https://fbref.com{links[0]}\")\n",
    "\n",
    "# Here Getting the shooting stats that were done for that team. To consider against that team them it will be next index[1]\n",
    "shooting = pd.read_html(shooting_data.text , match =\"Shooting\")[0]  \n",
    "shooting.columns = shooting.columns.droplevel()\n",
    "shooting.head()"
   ]
  },
  {
   "cell_type": "markdown",
   "metadata": {},
   "source": [
    "Merging the Two dataframe (Matches data and Shooting data) for this single team using Pandas"
   ]
  },
  {
   "cell_type": "code",
   "execution_count": null,
   "metadata": {},
   "outputs": [],
   "source": [
    "oneteam_combineddata = matches[0].merge(shooting[[\"Date\",\"Sh\",\"SoT\",\"Dist\",\"FK\",\"PK\",\"PKatt\"]] , on=\"Date\")\n",
    "# oneteam_combineddata.head()\n",
    "\n",
    "# Checked whether the rows and columns are merged properly or not using shape function.\n",
    "print(matches[0].shape)\n",
    "print(shooting.shape)\n",
    "print(oneteam_combineddata.shape)"
   ]
  },
  {
   "cell_type": "markdown",
   "metadata": {},
   "source": [
    "Scraping the Match Stats Data and Shooting data for multiple teams and multiple seasons "
   ]
  },
  {
   "cell_type": "code",
   "execution_count": null,
   "metadata": {},
   "outputs": [],
   "source": [
    "# Declaration of variables\n",
    "years = list(range(2023, 2020, -1))\n",
    "allteams_combined_data = []\n",
    "dataset_url = \"https://fbref.com/en/comps/9/2023-2024/2023-2024-Premier-League-Stats\"\n",
    "\n",
    "for year in years:\n",
    "    year_data = []\n",
    "    # Getting the Multiple Team Link for each year\n",
    "    data = requests.get(dataset_url)\n",
    "    time.sleep(2)\n",
    "    soup = BeautifulSoup(data.text, 'html.parser')\n",
    "    standing_table = soup.select('table.stats_table')[0]\n",
    "\n",
    "    # Getting the Team links\n",
    "    team_links = [l.get(\"href\") for l in standing_table.find_all('a')]\n",
    "    team_links = [l for l in team_links if '/squads/' in l]\n",
    "    team_urls = [f\"https://fbref.com{l}\" for l in team_links]\n",
    "    \n",
    "    # Update URL to the previous season\n",
    "    previous_seasons = soup.select(\"a.prev\")[0].get(\"href\")\n",
    "    dataset_url = f\"https://fbref.com{previous_seasons}\"\n",
    "\n",
    "    # Process teams in batches\n",
    "    batch_size = 5\n",
    "    for i in range(0, len(team_urls), batch_size):\n",
    "        batch_urls = team_urls[i:i + batch_size]\n",
    "        \n",
    "        for team_url in batch_urls:\n",
    "            team_name = team_url.split(\"/\")[-1].replace(\"-Stats\", \"\").replace(\"-\", \" \")\n",
    "            try:\n",
    "                oneteam_data = requests.get(team_url)\n",
    "                oneteam_data = StringIO(oneteam_data.text)\n",
    "                matches = pd.read_html(oneteam_data, match=\"Scores & Fixtures\")[0]\n",
    "                \n",
    "                soup = BeautifulSoup(oneteam_data, 'html.parser')\n",
    "                links = [l.get(\"href\") for l in soup.find_all('a')]\n",
    "                links = [l for l in links if l and 'all_comps/shooting/' in l]\n",
    "                \n",
    "                if links:\n",
    "                    shooting_data = requests.get(f\"https://fbref.com{links[0]}\")\n",
    "                    shooting_data = StringIO(shooting_data.text)\n",
    "                    shooting = pd.read_html(shooting_data, match=\"Shooting\")[0]\n",
    "                    shooting.columns = shooting.columns.droplevel()\n",
    "                    \n",
    "                    try:\n",
    "                        team_data = matches.merge(shooting[[\"Date\", \"Sh\", \"SoT\", \"Dist\", \"FK\", \"PK\", \"PKatt\"]], on=\"Date\")\n",
    "                    except ValueError:\n",
    "                        continue\n",
    "\n",
    "                    team_data = team_data[team_data[\"Comp\"] == \"Premier League\"]\n",
    "                    team_data[\"Season\"] = year\n",
    "                    team_data[\"Team\"] = team_name\n",
    "                    year_data.append(team_data)\n",
    "                    \n",
    "                    print(f\"Processed {team_name} for {year}\")\n",
    "                    \n",
    "                # Wait for 30 seconds after processing each team\n",
    "                time.sleep(30)\n",
    "                \n",
    "            except Exception as e:\n",
    "                print(f\"Error processing {team_name} for {year}: {e}\")\n",
    "            \n",
    "        # Wait for 60 seconds after processing each batch\n",
    "        print(f\"Waiting for 60 seconds before processing next batch...\")\n",
    "        time.sleep(60)\n",
    "    \n",
    "    # Combine year data and append to all teams combined data\n",
    "    if year_data:\n",
    "        year_data_df = pd.concat(year_data)\n",
    "        year_data_df.columns = [c.lower() for c in year_data_df.columns]\n",
    "        allteams_combined_data.append(year_data_df)\n",
    "        print(f\"Data for {year} processed and added to the combined data.\")\n",
    "\n",
    "# Combine all years' data and save to CSV\n",
    "if allteams_combined_data:\n",
    "    match_df = pd.concat(allteams_combined_data)\n",
    "    match_df.to_csv(\"matches.csv\", index=False)\n",
    "    print(\"All data saved to matches.csv\")\n"
   ]
  }
 ],
 "metadata": {
  "kernelspec": {
   "display_name": "Python 3",
   "language": "python",
   "name": "python3"
  },
  "language_info": {
   "codemirror_mode": {
    "name": "ipython",
    "version": 3
   },
   "file_extension": ".py",
   "mimetype": "text/x-python",
   "name": "python",
   "nbconvert_exporter": "python",
   "pygments_lexer": "ipython3",
   "version": "3.12.2"
  }
 },
 "nbformat": 4,
 "nbformat_minor": 2
}
